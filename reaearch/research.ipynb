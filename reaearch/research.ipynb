{
 "cells": [
  {
   "cell_type": "code",
   "execution_count": 51,
   "id": "a64fde4d",
   "metadata": {},
   "outputs": [
    {
     "name": "stdout",
     "output_type": "stream",
     "text": [
      "Vakeel AI Research Notebook\n"
     ]
    }
   ],
   "source": [
    "print(\"Vakeel AI Research Notebook\")"
   ]
  },
  {
   "cell_type": "code",
   "execution_count": 72,
   "id": "6b75ed7f",
   "metadata": {},
   "outputs": [],
   "source": [
    "### First Convertting the pdf to text\n",
    "import os\n",
    "import pdfplumber\n",
    "\n",
    "def pdf_to_text(directory, output_txt_file):\n",
    "    \n",
    "    pdf_files = [f for f in os.listdir(directory) if f.endswith('.pdf')]\n",
    "    \n",
    "    with open(output_txt_file, 'w', encoding='utf-8') as txt_file:\n",
    "        for pdf_file in pdf_files:\n",
    "            pdf_path = os.path.join(directory, pdf_file)\n",
    "            try:\n",
    "                with pdfplumber.open(pdf_path) as pdf:\n",
    "                    for page in pdf.pages:\n",
    "                        text = page.extract_text()\n",
    "                        if text:\n",
    "                            txt_file.write(text)\n",
    "                            txt_file.write(\"\\n\" + \"=\"*50 + \"\\n\")  \n",
    "            except Exception as e:\n",
    "                print(f\"Error processing {pdf_file}: {e}\")\n",
    "                continue  \n",
    "\n",
    "directory = 'C:/Users/aswin/OneDrive/Documents/Data Science/Gen AI/Final LLMOPS LAW/test'\n",
    "output_txt_file = 'combined_output3.txt'  \n",
    "pdf_to_text(directory, output_txt_file)\n"
   ]
  },
  {
   "cell_type": "code",
   "execution_count": 73,
   "id": "75aae2c8",
   "metadata": {},
   "outputs": [
    {
     "name": "stdout",
     "output_type": "stream",
     "text": [
      "Loaded 1 documents from the text file.\n"
     ]
    }
   ],
   "source": [
    "from langchain_community.document_loaders import TextLoader\n",
    "\n",
    "loader = TextLoader('combined_output3.txt', encoding='utf-8')\n",
    "extracted_data = loader.load()\n",
    "print(f\"Loaded {len(extracted_data)} documents from the text file.\")"
   ]
  },
  {
   "cell_type": "code",
   "execution_count": 74,
   "id": "72dba7ff",
   "metadata": {},
   "outputs": [],
   "source": [
    "from typing import List\n",
    "from langchain.schema import Document\n",
    "\n",
    "def filter_to_minimal_docs(docs: List[Document]) -> List[Document]:\n",
    "    \"\"\"\n",
    "    Given a list of Document objects, return a new list of Document objects\n",
    "    containing only 'source' in metadata and the original page_content.\n",
    "    \"\"\"\n",
    "    minimal_docs: List[Document] = []\n",
    "    for doc in docs:\n",
    "        src = doc.metadata.get(\"source\")\n",
    "        minimal_docs.append(\n",
    "            Document(\n",
    "                page_content=doc.page_content,\n",
    "                metadata={\"source\": src}\n",
    "            )\n",
    "        )\n",
    "    return minimal_docs"
   ]
  },
  {
   "cell_type": "code",
   "execution_count": 75,
   "id": "9d4f7643",
   "metadata": {},
   "outputs": [],
   "source": [
    "minimal_docs = filter_to_minimal_docs(extracted_data)"
   ]
  },
  {
   "cell_type": "code",
   "execution_count": 76,
   "id": "827f55e3",
   "metadata": {},
   "outputs": [],
   "source": [
    "from langchain.text_splitter import RecursiveCharacterTextSplitter"
   ]
  },
  {
   "cell_type": "code",
   "execution_count": 77,
   "id": "8b998cfd",
   "metadata": {},
   "outputs": [],
   "source": [
    "def text_split(minimal_docs):\n",
    "    text_splitter = RecursiveCharacterTextSplitter(\n",
    "        chunk_size=1000,\n",
    "        chunk_overlap=100,\n",
    "    )\n",
    "    texts_chunk = text_splitter.split_documents(minimal_docs)\n",
    "    return texts_chunk"
   ]
  },
  {
   "cell_type": "code",
   "execution_count": 78,
   "id": "11d6ecc0",
   "metadata": {},
   "outputs": [
    {
     "name": "stdout",
     "output_type": "stream",
     "text": [
      "Number of chunks: 1206\n"
     ]
    }
   ],
   "source": [
    "texts_chunk = text_split(minimal_docs)\n",
    "print(f\"Number of chunks: {len(texts_chunk)}\")"
   ]
  },
  {
   "cell_type": "code",
   "execution_count": 79,
   "id": "4f72a156",
   "metadata": {},
   "outputs": [
    {
     "name": "stderr",
     "output_type": "stream",
     "text": [
      "c:\\Users\\aswin\\anaconda3\\envs\\ragenv\\lib\\site-packages\\huggingface_hub\\file_download.py:142: UserWarning: `huggingface_hub` cache-system uses symlinks by default to efficiently store duplicated files but your machine does not support them in C:\\Users\\aswin\\.cache\\huggingface\\hub\\models--BAAI--bge-large-zh-v1.5. Caching files will still work but in a degraded version that might require more space on your disk. This warning can be disabled by setting the `HF_HUB_DISABLE_SYMLINKS_WARNING` environment variable. For more details, see https://huggingface.co/docs/huggingface_hub/how-to-cache#limitations.\n",
      "To support symlinks on Windows, you either need to activate Developer Mode or to run Python as an administrator. In order to activate developer mode, see this article: https://docs.microsoft.com/en-us/windows/apps/get-started/enable-your-device-for-development\n",
      "  warnings.warn(message)\n"
     ]
    }
   ],
   "source": [
    "from langchain.embeddings import HuggingFaceEmbeddings\n",
    "\n",
    "def download_embeddings():\n",
    "    \"\"\"\n",
    "    Download and return the HuggingFace embeddings model.\n",
    "    \"\"\"\n",
    "    model_name = \"BAAI/bge-large-zh-v1.5\"\n",
    "    embeddings = HuggingFaceEmbeddings(\n",
    "        model_name=model_name\n",
    "    )\n",
    "    return embeddings\n",
    "\n",
    "embedding = download_embeddings()"
   ]
  },
  {
   "cell_type": "code",
   "execution_count": 81,
   "id": "74ca8d5e",
   "metadata": {},
   "outputs": [
    {
     "data": {
      "text/plain": [
       "HuggingFaceEmbeddings(client=SentenceTransformer(\n",
       "  (0): Transformer({'max_seq_length': 512, 'do_lower_case': True}) with Transformer model: BertModel \n",
       "  (1): Pooling({'word_embedding_dimension': 1024, 'pooling_mode_cls_token': True, 'pooling_mode_mean_tokens': False, 'pooling_mode_max_tokens': False, 'pooling_mode_mean_sqrt_len_tokens': False, 'pooling_mode_weightedmean_tokens': False, 'pooling_mode_lasttoken': False, 'include_prompt': True})\n",
       "  (2): Normalize()\n",
       "), model_name='BAAI/bge-large-zh-v1.5', cache_folder=None, model_kwargs={}, encode_kwargs={}, multi_process=False, show_progress=False)"
      ]
     },
     "execution_count": 81,
     "metadata": {},
     "output_type": "execute_result"
    }
   ],
   "source": [
    "embedding"
   ]
  },
  {
   "cell_type": "code",
   "execution_count": 82,
   "id": "a0c45f18",
   "metadata": {},
   "outputs": [],
   "source": [
    "from dotenv import load_dotenv\n",
    "import os\n",
    "\n",
    "\n",
    "load_dotenv()\n",
    "\n",
    "\n",
    "PINECONE_API_KEY = os.getenv(\"PINECONE_API_KEY\")\n",
    "hf_token = os.getenv(\"hf_token\")\n",
    "\n",
    "os.environ[\"PINECONE_API_KEY\"] = PINECONE_API_KEY\n",
    "os.environ[\"hf_token\"] = hf_token"
   ]
  },
  {
   "cell_type": "code",
   "execution_count": 11,
   "id": "a7e08779",
   "metadata": {},
   "outputs": [
    {
     "name": "stdout",
     "output_type": "stream",
     "text": [
      "Requirement already satisfied: pinecone in c:\\users\\aswin\\anaconda3\\envs\\ragenv\\lib\\site-packages (7.3.0)\n",
      "Requirement already satisfied: certifi>=2019.11.17 in c:\\users\\aswin\\anaconda3\\envs\\ragenv\\lib\\site-packages (from pinecone) (2025.1.31)\n",
      "Requirement already satisfied: pinecone-plugin-assistant<2.0.0,>=1.6.0 in c:\\users\\aswin\\anaconda3\\envs\\ragenv\\lib\\site-packages (from pinecone) (1.7.0)\n",
      "Requirement already satisfied: pinecone-plugin-interface<0.0.8,>=0.0.7 in c:\\users\\aswin\\anaconda3\\envs\\ragenv\\lib\\site-packages (from pinecone) (0.0.7)\n",
      "Requirement already satisfied: python-dateutil>=2.5.3 in c:\\users\\aswin\\appdata\\roaming\\python\\python310\\site-packages (from pinecone) (2.8.2)\n",
      "Requirement already satisfied: typing-extensions>=3.7.4 in c:\\users\\aswin\\anaconda3\\envs\\ragenv\\lib\\site-packages (from pinecone) (4.12.2)\n",
      "Requirement already satisfied: urllib3>=1.26.0 in c:\\users\\aswin\\anaconda3\\envs\\ragenv\\lib\\site-packages (from pinecone) (2.3.0)\n",
      "Requirement already satisfied: packaging<25.0,>=24.2 in c:\\users\\aswin\\anaconda3\\envs\\ragenv\\lib\\site-packages (from pinecone-plugin-assistant<2.0.0,>=1.6.0->pinecone) (24.2)\n",
      "Requirement already satisfied: requests<3.0.0,>=2.32.3 in c:\\users\\aswin\\anaconda3\\envs\\ragenv\\lib\\site-packages (from pinecone-plugin-assistant<2.0.0,>=1.6.0->pinecone) (2.32.3)\n",
      "Requirement already satisfied: six>=1.5 in c:\\users\\aswin\\appdata\\roaming\\python\\python310\\site-packages (from python-dateutil>=2.5.3->pinecone) (1.16.0)\n",
      "Requirement already satisfied: charset-normalizer<4,>=2 in c:\\users\\aswin\\anaconda3\\envs\\ragenv\\lib\\site-packages (from requests<3.0.0,>=2.32.3->pinecone-plugin-assistant<2.0.0,>=1.6.0->pinecone) (3.4.1)\n",
      "Requirement already satisfied: idna<4,>=2.5 in c:\\users\\aswin\\anaconda3\\envs\\ragenv\\lib\\site-packages (from requests<3.0.0,>=2.32.3->pinecone-plugin-assistant<2.0.0,>=1.6.0->pinecone) (3.10)\n",
      "Note: you may need to restart the kernel to use updated packages.\n"
     ]
    }
   ],
   "source": [
    "pip install pinecone"
   ]
  },
  {
   "cell_type": "code",
   "execution_count": 83,
   "id": "296cd866",
   "metadata": {},
   "outputs": [],
   "source": [
    "from pinecone import Pinecone \n",
    "pinecone_api_key = PINECONE_API_KEY\n",
    "\n",
    "pc = Pinecone(api_key=pinecone_api_key)"
   ]
  },
  {
   "cell_type": "code",
   "execution_count": 84,
   "id": "021a516a",
   "metadata": {},
   "outputs": [
    {
     "data": {
      "text/plain": [
       "<pinecone.pinecone.Pinecone at 0x1612d474fd0>"
      ]
     },
     "execution_count": 84,
     "metadata": {},
     "output_type": "execute_result"
    }
   ],
   "source": [
    "pc"
   ]
  },
  {
   "cell_type": "code",
   "execution_count": 86,
   "id": "848eafdb",
   "metadata": {},
   "outputs": [],
   "source": [
    "from pinecone import ServerlessSpec \n",
    "\n",
    "index_name = \"test1-chatbot\"\n",
    "\n",
    "if not pc.has_index(index_name):\n",
    "    pc.create_index(\n",
    "        name = index_name,\n",
    "        dimension=1024,  # Dimension of the embeddings\n",
    "        metric= \"cosine\",  # Cosine similarity\n",
    "        spec=ServerlessSpec(cloud=\"aws\", region=\"us-east-1\")\n",
    "    )\n",
    "\n",
    "\n",
    "index = pc.Index(index_name)"
   ]
  },
  {
   "cell_type": "code",
   "execution_count": 26,
   "id": "6a9abad3",
   "metadata": {},
   "outputs": [
    {
     "name": "stdout",
     "output_type": "stream",
     "text": [
      "Collecting langchain-pinecone\n",
      "  Downloading langchain_pinecone-0.2.11-py3-none-any.whl.metadata (6.1 kB)\n",
      "Requirement already satisfied: langchain-core<1.0.0,>=0.3.34 in c:\\users\\aswin\\anaconda3\\envs\\ragenv\\lib\\site-packages (from langchain-pinecone) (0.3.69)\n",
      "Requirement already satisfied: pinecone<8.0.0,>=6.0.0 in c:\\users\\aswin\\anaconda3\\envs\\ragenv\\lib\\site-packages (from pinecone[asyncio]<8.0.0,>=6.0.0->langchain-pinecone) (7.3.0)\n",
      "Requirement already satisfied: numpy>=1.26.4 in c:\\users\\aswin\\anaconda3\\envs\\ragenv\\lib\\site-packages (from langchain-pinecone) (1.26.4)\n",
      "Collecting langchain-tests<1.0.0,>=0.3.7 (from langchain-pinecone)\n",
      "  Downloading langchain_tests-0.3.20-py3-none-any.whl.metadata (3.3 kB)\n",
      "Collecting langchain-openai>=0.3.11 (from langchain-pinecone)\n",
      "  Downloading langchain_openai-0.3.28-py3-none-any.whl.metadata (2.3 kB)\n",
      "Requirement already satisfied: langsmith>=0.3.45 in c:\\users\\aswin\\anaconda3\\envs\\ragenv\\lib\\site-packages (from langchain-core<1.0.0,>=0.3.34->langchain-pinecone) (0.4.6)\n",
      "Requirement already satisfied: tenacity!=8.4.0,<10.0.0,>=8.1.0 in c:\\users\\aswin\\anaconda3\\envs\\ragenv\\lib\\site-packages (from langchain-core<1.0.0,>=0.3.34->langchain-pinecone) (9.0.0)\n",
      "Requirement already satisfied: jsonpatch<2.0,>=1.33 in c:\\users\\aswin\\anaconda3\\envs\\ragenv\\lib\\site-packages (from langchain-core<1.0.0,>=0.3.34->langchain-pinecone) (1.33)\n",
      "Requirement already satisfied: PyYAML>=5.3 in c:\\users\\aswin\\anaconda3\\envs\\ragenv\\lib\\site-packages (from langchain-core<1.0.0,>=0.3.34->langchain-pinecone) (6.0.2)\n",
      "Requirement already satisfied: typing-extensions>=4.7 in c:\\users\\aswin\\anaconda3\\envs\\ragenv\\lib\\site-packages (from langchain-core<1.0.0,>=0.3.34->langchain-pinecone) (4.12.2)\n",
      "Requirement already satisfied: packaging>=23.2 in c:\\users\\aswin\\anaconda3\\envs\\ragenv\\lib\\site-packages (from langchain-core<1.0.0,>=0.3.34->langchain-pinecone) (24.2)\n",
      "Requirement already satisfied: pydantic>=2.7.4 in c:\\users\\aswin\\anaconda3\\envs\\ragenv\\lib\\site-packages (from langchain-core<1.0.0,>=0.3.34->langchain-pinecone) (2.10.6)\n",
      "Collecting openai<2.0.0,>=1.86.0 (from langchain-openai>=0.3.11->langchain-pinecone)\n",
      "  Downloading openai-1.97.1-py3-none-any.whl.metadata (29 kB)\n",
      "Requirement already satisfied: tiktoken<1,>=0.7 in c:\\users\\aswin\\anaconda3\\envs\\ragenv\\lib\\site-packages (from langchain-openai>=0.3.11->langchain-pinecone) (0.9.0)\n",
      "Collecting pytest<9,>=7 (from langchain-tests<1.0.0,>=0.3.7->langchain-pinecone)\n",
      "  Downloading pytest-8.4.1-py3-none-any.whl.metadata (7.7 kB)\n",
      "Collecting pytest-asyncio<1,>=0.20 (from langchain-tests<1.0.0,>=0.3.7->langchain-pinecone)\n",
      "  Downloading pytest_asyncio-0.26.0-py3-none-any.whl.metadata (4.0 kB)\n",
      "Requirement already satisfied: httpx<1,>=0.25.0 in c:\\users\\aswin\\anaconda3\\envs\\ragenv\\lib\\site-packages (from langchain-tests<1.0.0,>=0.3.7->langchain-pinecone) (0.28.1)\n",
      "Collecting syrupy<5,>=4 (from langchain-tests<1.0.0,>=0.3.7->langchain-pinecone)\n",
      "  Downloading syrupy-4.9.1-py3-none-any.whl.metadata (38 kB)\n",
      "Collecting pytest-socket<1,>=0.6.0 (from langchain-tests<1.0.0,>=0.3.7->langchain-pinecone)\n",
      "  Downloading pytest_socket-0.7.0-py3-none-any.whl.metadata (6.7 kB)\n",
      "Collecting pytest-benchmark (from langchain-tests<1.0.0,>=0.3.7->langchain-pinecone)\n",
      "  Downloading pytest_benchmark-5.1.0-py3-none-any.whl.metadata (25 kB)\n",
      "Collecting pytest-codspeed (from langchain-tests<1.0.0,>=0.3.7->langchain-pinecone)\n",
      "  Downloading pytest_codspeed-4.0.0-py3-none-any.whl.metadata (7.3 kB)\n",
      "Collecting pytest-recording (from langchain-tests<1.0.0,>=0.3.7->langchain-pinecone)\n",
      "  Downloading pytest_recording-0.13.4-py3-none-any.whl.metadata (11 kB)\n",
      "Collecting vcrpy>=7.0 (from langchain-tests<1.0.0,>=0.3.7->langchain-pinecone)\n",
      "  Downloading vcrpy-7.0.0-py2.py3-none-any.whl.metadata (4.6 kB)\n",
      "Requirement already satisfied: certifi>=2019.11.17 in c:\\users\\aswin\\anaconda3\\envs\\ragenv\\lib\\site-packages (from pinecone<8.0.0,>=6.0.0->pinecone[asyncio]<8.0.0,>=6.0.0->langchain-pinecone) (2025.1.31)\n",
      "Requirement already satisfied: pinecone-plugin-assistant<2.0.0,>=1.6.0 in c:\\users\\aswin\\anaconda3\\envs\\ragenv\\lib\\site-packages (from pinecone<8.0.0,>=6.0.0->pinecone[asyncio]<8.0.0,>=6.0.0->langchain-pinecone) (1.7.0)\n",
      "Requirement already satisfied: pinecone-plugin-interface<0.0.8,>=0.0.7 in c:\\users\\aswin\\anaconda3\\envs\\ragenv\\lib\\site-packages (from pinecone<8.0.0,>=6.0.0->pinecone[asyncio]<8.0.0,>=6.0.0->langchain-pinecone) (0.0.7)\n",
      "Requirement already satisfied: python-dateutil>=2.5.3 in c:\\users\\aswin\\appdata\\roaming\\python\\python310\\site-packages (from pinecone<8.0.0,>=6.0.0->pinecone[asyncio]<8.0.0,>=6.0.0->langchain-pinecone) (2.8.2)\n",
      "Requirement already satisfied: urllib3>=1.26.0 in c:\\users\\aswin\\anaconda3\\envs\\ragenv\\lib\\site-packages (from pinecone<8.0.0,>=6.0.0->pinecone[asyncio]<8.0.0,>=6.0.0->langchain-pinecone) (2.3.0)\n",
      "Requirement already satisfied: aiohttp>=3.9.0 in c:\\users\\aswin\\anaconda3\\envs\\ragenv\\lib\\site-packages (from pinecone[asyncio]<8.0.0,>=6.0.0->langchain-pinecone) (3.11.12)\n",
      "Collecting aiohttp-retry<3.0.0,>=2.9.1 (from pinecone[asyncio]<8.0.0,>=6.0.0->langchain-pinecone)\n",
      "  Using cached aiohttp_retry-2.9.1-py3-none-any.whl.metadata (8.8 kB)\n",
      "Requirement already satisfied: aiohappyeyeballs>=2.3.0 in c:\\users\\aswin\\anaconda3\\envs\\ragenv\\lib\\site-packages (from aiohttp>=3.9.0->pinecone[asyncio]<8.0.0,>=6.0.0->langchain-pinecone) (2.4.6)\n",
      "Requirement already satisfied: aiosignal>=1.1.2 in c:\\users\\aswin\\anaconda3\\envs\\ragenv\\lib\\site-packages (from aiohttp>=3.9.0->pinecone[asyncio]<8.0.0,>=6.0.0->langchain-pinecone) (1.3.2)\n",
      "Requirement already satisfied: async-timeout<6.0,>=4.0 in c:\\users\\aswin\\anaconda3\\envs\\ragenv\\lib\\site-packages (from aiohttp>=3.9.0->pinecone[asyncio]<8.0.0,>=6.0.0->langchain-pinecone) (4.0.3)\n",
      "Requirement already satisfied: attrs>=17.3.0 in c:\\users\\aswin\\anaconda3\\envs\\ragenv\\lib\\site-packages (from aiohttp>=3.9.0->pinecone[asyncio]<8.0.0,>=6.0.0->langchain-pinecone) (25.1.0)\n",
      "Requirement already satisfied: frozenlist>=1.1.1 in c:\\users\\aswin\\anaconda3\\envs\\ragenv\\lib\\site-packages (from aiohttp>=3.9.0->pinecone[asyncio]<8.0.0,>=6.0.0->langchain-pinecone) (1.5.0)\n",
      "Requirement already satisfied: multidict<7.0,>=4.5 in c:\\users\\aswin\\anaconda3\\envs\\ragenv\\lib\\site-packages (from aiohttp>=3.9.0->pinecone[asyncio]<8.0.0,>=6.0.0->langchain-pinecone) (6.1.0)\n",
      "Requirement already satisfied: propcache>=0.2.0 in c:\\users\\aswin\\anaconda3\\envs\\ragenv\\lib\\site-packages (from aiohttp>=3.9.0->pinecone[asyncio]<8.0.0,>=6.0.0->langchain-pinecone) (0.3.0)\n",
      "Requirement already satisfied: yarl<2.0,>=1.17.0 in c:\\users\\aswin\\anaconda3\\envs\\ragenv\\lib\\site-packages (from aiohttp>=3.9.0->pinecone[asyncio]<8.0.0,>=6.0.0->langchain-pinecone) (1.18.3)\n",
      "Requirement already satisfied: anyio in c:\\users\\aswin\\anaconda3\\envs\\ragenv\\lib\\site-packages (from httpx<1,>=0.25.0->langchain-tests<1.0.0,>=0.3.7->langchain-pinecone) (4.8.0)\n",
      "Requirement already satisfied: httpcore==1.* in c:\\users\\aswin\\anaconda3\\envs\\ragenv\\lib\\site-packages (from httpx<1,>=0.25.0->langchain-tests<1.0.0,>=0.3.7->langchain-pinecone) (1.0.7)\n",
      "Requirement already satisfied: idna in c:\\users\\aswin\\anaconda3\\envs\\ragenv\\lib\\site-packages (from httpx<1,>=0.25.0->langchain-tests<1.0.0,>=0.3.7->langchain-pinecone) (3.10)\n",
      "Requirement already satisfied: h11<0.15,>=0.13 in c:\\users\\aswin\\anaconda3\\envs\\ragenv\\lib\\site-packages (from httpcore==1.*->httpx<1,>=0.25.0->langchain-tests<1.0.0,>=0.3.7->langchain-pinecone) (0.14.0)\n",
      "Requirement already satisfied: jsonpointer>=1.9 in c:\\users\\aswin\\anaconda3\\envs\\ragenv\\lib\\site-packages (from jsonpatch<2.0,>=1.33->langchain-core<1.0.0,>=0.3.34->langchain-pinecone) (3.0.0)\n",
      "Requirement already satisfied: orjson<4.0.0,>=3.9.14 in c:\\users\\aswin\\anaconda3\\envs\\ragenv\\lib\\site-packages (from langsmith>=0.3.45->langchain-core<1.0.0,>=0.3.34->langchain-pinecone) (3.10.15)\n",
      "Requirement already satisfied: requests<3,>=2 in c:\\users\\aswin\\anaconda3\\envs\\ragenv\\lib\\site-packages (from langsmith>=0.3.45->langchain-core<1.0.0,>=0.3.34->langchain-pinecone) (2.32.3)\n",
      "Requirement already satisfied: requests-toolbelt<2.0.0,>=1.0.0 in c:\\users\\aswin\\anaconda3\\envs\\ragenv\\lib\\site-packages (from langsmith>=0.3.45->langchain-core<1.0.0,>=0.3.34->langchain-pinecone) (1.0.0)\n",
      "Requirement already satisfied: zstandard<0.24.0,>=0.23.0 in c:\\users\\aswin\\anaconda3\\envs\\ragenv\\lib\\site-packages (from langsmith>=0.3.45->langchain-core<1.0.0,>=0.3.34->langchain-pinecone) (0.23.0)\n",
      "Requirement already satisfied: distro<2,>=1.7.0 in c:\\users\\aswin\\anaconda3\\envs\\ragenv\\lib\\site-packages (from openai<2.0.0,>=1.86.0->langchain-openai>=0.3.11->langchain-pinecone) (1.9.0)\n",
      "Requirement already satisfied: jiter<1,>=0.4.0 in c:\\users\\aswin\\anaconda3\\envs\\ragenv\\lib\\site-packages (from openai<2.0.0,>=1.86.0->langchain-openai>=0.3.11->langchain-pinecone) (0.8.2)\n",
      "Requirement already satisfied: sniffio in c:\\users\\aswin\\anaconda3\\envs\\ragenv\\lib\\site-packages (from openai<2.0.0,>=1.86.0->langchain-openai>=0.3.11->langchain-pinecone) (1.3.1)\n",
      "Requirement already satisfied: tqdm>4 in c:\\users\\aswin\\anaconda3\\envs\\ragenv\\lib\\site-packages (from openai<2.0.0,>=1.86.0->langchain-openai>=0.3.11->langchain-pinecone) (4.67.1)\n",
      "Requirement already satisfied: annotated-types>=0.6.0 in c:\\users\\aswin\\anaconda3\\envs\\ragenv\\lib\\site-packages (from pydantic>=2.7.4->langchain-core<1.0.0,>=0.3.34->langchain-pinecone) (0.7.0)\n",
      "Requirement already satisfied: pydantic-core==2.27.2 in c:\\users\\aswin\\anaconda3\\envs\\ragenv\\lib\\site-packages (from pydantic>=2.7.4->langchain-core<1.0.0,>=0.3.34->langchain-pinecone) (2.27.2)\n",
      "Requirement already satisfied: colorama>=0.4 in c:\\users\\aswin\\appdata\\roaming\\python\\python310\\site-packages (from pytest<9,>=7->langchain-tests<1.0.0,>=0.3.7->langchain-pinecone) (0.4.6)\n",
      "Requirement already satisfied: exceptiongroup>=1 in c:\\users\\aswin\\anaconda3\\envs\\ragenv\\lib\\site-packages (from pytest<9,>=7->langchain-tests<1.0.0,>=0.3.7->langchain-pinecone) (1.2.2)\n",
      "Collecting iniconfig>=1 (from pytest<9,>=7->langchain-tests<1.0.0,>=0.3.7->langchain-pinecone)\n",
      "  Downloading iniconfig-2.1.0-py3-none-any.whl.metadata (2.7 kB)\n",
      "Collecting pluggy<2,>=1.5 (from pytest<9,>=7->langchain-tests<1.0.0,>=0.3.7->langchain-pinecone)\n",
      "  Downloading pluggy-1.6.0-py3-none-any.whl.metadata (4.8 kB)\n",
      "Requirement already satisfied: pygments>=2.7.2 in c:\\users\\aswin\\appdata\\roaming\\python\\python310\\site-packages (from pytest<9,>=7->langchain-tests<1.0.0,>=0.3.7->langchain-pinecone) (2.15.1)\n",
      "Requirement already satisfied: tomli>=1 in c:\\users\\aswin\\anaconda3\\envs\\ragenv\\lib\\site-packages (from pytest<9,>=7->langchain-tests<1.0.0,>=0.3.7->langchain-pinecone) (2.2.1)\n",
      "Requirement already satisfied: six>=1.5 in c:\\users\\aswin\\appdata\\roaming\\python\\python310\\site-packages (from python-dateutil>=2.5.3->pinecone<8.0.0,>=6.0.0->pinecone[asyncio]<8.0.0,>=6.0.0->langchain-pinecone) (1.16.0)\n",
      "Requirement already satisfied: regex>=2022.1.18 in c:\\users\\aswin\\anaconda3\\envs\\ragenv\\lib\\site-packages (from tiktoken<1,>=0.7->langchain-openai>=0.3.11->langchain-pinecone) (2024.11.6)\n",
      "Requirement already satisfied: wrapt in c:\\users\\aswin\\anaconda3\\envs\\ragenv\\lib\\site-packages (from vcrpy>=7.0->langchain-tests<1.0.0,>=0.3.7->langchain-pinecone) (1.17.2)\n",
      "Collecting py-cpuinfo (from pytest-benchmark->langchain-tests<1.0.0,>=0.3.7->langchain-pinecone)\n",
      "  Downloading py_cpuinfo-9.0.0-py3-none-any.whl.metadata (794 bytes)\n",
      "Requirement already satisfied: cffi>=1.17.1 in c:\\users\\aswin\\anaconda3\\envs\\ragenv\\lib\\site-packages (from pytest-codspeed->langchain-tests<1.0.0,>=0.3.7->langchain-pinecone) (1.17.1)\n",
      "Requirement already satisfied: rich>=13.8.1 in c:\\users\\aswin\\anaconda3\\envs\\ragenv\\lib\\site-packages (from pytest-codspeed->langchain-tests<1.0.0,>=0.3.7->langchain-pinecone) (13.9.4)\n",
      "Requirement already satisfied: pycparser in c:\\users\\aswin\\anaconda3\\envs\\ragenv\\lib\\site-packages (from cffi>=1.17.1->pytest-codspeed->langchain-tests<1.0.0,>=0.3.7->langchain-pinecone) (2.22)\n",
      "Requirement already satisfied: charset-normalizer<4,>=2 in c:\\users\\aswin\\anaconda3\\envs\\ragenv\\lib\\site-packages (from requests<3,>=2->langsmith>=0.3.45->langchain-core<1.0.0,>=0.3.34->langchain-pinecone) (3.4.1)\n",
      "Requirement already satisfied: markdown-it-py>=2.2.0 in c:\\users\\aswin\\anaconda3\\envs\\ragenv\\lib\\site-packages (from rich>=13.8.1->pytest-codspeed->langchain-tests<1.0.0,>=0.3.7->langchain-pinecone) (3.0.0)\n",
      "Requirement already satisfied: mdurl~=0.1 in c:\\users\\aswin\\anaconda3\\envs\\ragenv\\lib\\site-packages (from markdown-it-py>=2.2.0->rich>=13.8.1->pytest-codspeed->langchain-tests<1.0.0,>=0.3.7->langchain-pinecone) (0.1.2)\n",
      "Downloading langchain_pinecone-0.2.11-py3-none-any.whl (23 kB)\n",
      "Downloading langchain_openai-0.3.28-py3-none-any.whl (70 kB)\n",
      "Downloading langchain_tests-0.3.20-py3-none-any.whl (46 kB)\n",
      "Using cached aiohttp_retry-2.9.1-py3-none-any.whl (10.0 kB)\n",
      "Downloading openai-1.97.1-py3-none-any.whl (764 kB)\n",
      "   ---------------------------------------- 0.0/764.4 kB ? eta -:--:--\n",
      "   --------------------------------------- 764.4/764.4 kB 16.2 MB/s eta 0:00:00\n",
      "Downloading pytest-8.4.1-py3-none-any.whl (365 kB)\n",
      "Downloading pytest_asyncio-0.26.0-py3-none-any.whl (19 kB)\n",
      "Downloading pytest_socket-0.7.0-py3-none-any.whl (6.8 kB)\n",
      "Downloading syrupy-4.9.1-py3-none-any.whl (52 kB)\n",
      "Downloading vcrpy-7.0.0-py2.py3-none-any.whl (42 kB)\n",
      "Downloading pytest_benchmark-5.1.0-py3-none-any.whl (44 kB)\n",
      "Downloading pytest_codspeed-4.0.0-py3-none-any.whl (107 kB)\n",
      "Downloading pytest_recording-0.13.4-py3-none-any.whl (13 kB)\n",
      "Downloading iniconfig-2.1.0-py3-none-any.whl (6.0 kB)\n",
      "Downloading pluggy-1.6.0-py3-none-any.whl (20 kB)\n",
      "Downloading py_cpuinfo-9.0.0-py3-none-any.whl (22 kB)\n",
      "Installing collected packages: py-cpuinfo, pluggy, iniconfig, pytest, vcrpy, syrupy, pytest-socket, pytest-codspeed, pytest-benchmark, pytest-asyncio, openai, pytest-recording, aiohttp-retry, langchain-tests, langchain-openai, langchain-pinecone\n",
      "  Attempting uninstall: openai\n",
      "    Found existing installation: openai 1.64.0\n",
      "    Uninstalling openai-1.64.0:\n",
      "      Successfully uninstalled openai-1.64.0\n",
      "  Attempting uninstall: langchain-openai\n",
      "    Found existing installation: langchain-openai 0.3.6\n",
      "    Uninstalling langchain-openai-0.3.6:\n",
      "      Successfully uninstalled langchain-openai-0.3.6\n",
      "Successfully installed aiohttp-retry-2.9.1 iniconfig-2.1.0 langchain-openai-0.3.28 langchain-pinecone-0.2.11 langchain-tests-0.3.20 openai-1.97.1 pluggy-1.6.0 py-cpuinfo-9.0.0 pytest-8.4.1 pytest-asyncio-0.26.0 pytest-benchmark-5.1.0 pytest-codspeed-4.0.0 pytest-recording-0.13.4 pytest-socket-0.7.0 syrupy-4.9.1 vcrpy-7.0.0\n"
     ]
    }
   ],
   "source": [
    "!pip install langchain-pinecone\n"
   ]
  },
  {
   "cell_type": "code",
   "execution_count": 87,
   "id": "c18c6305",
   "metadata": {},
   "outputs": [],
   "source": [
    "from langchain_pinecone import PineconeVectorStore\n",
    "\n",
    "docsearch = PineconeVectorStore.from_documents(\n",
    "    documents=texts_chunk,\n",
    "    embedding=embedding,\n",
    "    index_name=index_name\n",
    ")"
   ]
  },
  {
   "cell_type": "code",
   "execution_count": 89,
   "id": "2531b613",
   "metadata": {},
   "outputs": [],
   "source": [
    "retriever = docsearch.as_retriever(search_type=\"similarity\", search_kwargs={\"k\":5})"
   ]
  },
  {
   "cell_type": "code",
   "execution_count": 90,
   "id": "95113a2c",
   "metadata": {},
   "outputs": [
    {
     "data": {
      "text/plain": [
       "[Document(id='b1d4b9b5-12d4-41e8-9572-25deb48f8a08', metadata={'source': 'combined_output3.txt'}, page_content='v. Central Bank of India & Ors9, where it was reiterated that title and ownership\\nof immovable property can only be conveyed by a registered deed of sale. The\\nfollowing observations are significant:\\n“25. The observations made by this Court in Suraj Lamp (supra) in paras 16 and 19 are also\\nrelevant.\\n…..\\n26. Suraj Lamp (supra) later came to be referred to and relied upon by this Court in\\nShakeel Ahmed v. Syed Akhlaq Hussain, 2023 SCC OnLine SC 1526 wherein the Court\\nafter referring to its earlier judgment held that the person relying upon the customary\\ndocuments cannot claim to be the owner of the immovable property and consequently not\\nmaintain any claims against a third-party. The relevant paras read as under:—\\n“10. Having considered the submissions at the outset, it is to be emphasized that\\nirrespective of what was decided in the case of Suraj Lamps and Industries (supra) the fact\\nremains that no title could be transferred with respect to immovable properties on the basis'),\n",
       " Document(id='422ff1d8-3361-46ec-b1ec-e7d64ba3ebbe', metadata={'source': 'combined_output3.txt'}, page_content='respondent filed an FIR under sections 406 and 420 of the IPC before the\\nSalabatpura Police Station, Surat. The FIR is registered as I-06 of 2017. The\\nalleged offence is stated to have occurred between 16.10.2013 and\\n05.04.2014. The accusations in the FIR refer to the initiative of the appellant\\nand the second respondent to establish a business relationship between\\nthem. The FIR presents a detailed narrative on the beginning of a transaction\\nbetween the second respondent and the appellant. The accusations have been\\nnoted with sufficient details in the judgment impugned in the appeal. Hence,\\nthe contents of the FIR are stated in brief:\\n3.1 The second respondent from 2012 to 2014 was running his business at\\nSurat Textile market, parking project shop number 133, in the name of Ansh\\nPrints. The business is to process the grey clothes from weavers, and after the\\n2\\n==================================================\\nprocess of Dyeing, printing, and Bal print, the goods are sent for work, and'),\n",
       " Document(id='af812b63-cd08-4c9e-bac2-9a40d48a397e', metadata={'source': 'combined_output3.txt'}, page_content='judgment specifically disagreed with the full-Bench\\njudgment of the Bombay High Court, whereby the\\nMPID Act was held unconstitutional. Subsequently,\\nthe Court in Sonal Hemant Joshi and Ors. (supra),\\nWRIT PETITION (CIVIL) NO.995 OF 2019 Page 61 of 76\\n==================================================\\nspecifically relied upon the said judgment in case of\\nK.K. Baskaran and upheld the constitutional validity\\nof the MPID Act. The said judgment was also relied\\nupon by the three-Judge Bench in State of\\nMaharashtra vs. 63 Moons Technologies (supra).\\n34. In view of the above, there remains no shadow of\\ndoubt that the State of Maharashtra was within its\\nlegislative competence to enact the MPID Act, the\\nsubject matter of which in pith and substance was\\nrelatable to Entries 1, 30 and 32 of the State List (List-\\nII) of the Seventh Schedule of the Constitution of\\nIndia.\\n35. The PMLA was enacted to implement the\\ninternational resolutions and declarations made by'),\n",
       " Document(id='f4561f75-61a3-4a93-a1c8-081b0c8a2b4d', metadata={'source': 'combined_output3.txt'}, page_content='Authority appointed by the State Government, and\\ntherefore such properties would no longer be the\\nproperties of the judgment debtor or of the Garnishee,\\nand therefore would be outside the scope of operation\\nand application of IBC. Per contra the learned\\ncounsel for the Judgment Debtor/Garnishees have\\ncontended that the IBC being a complete and\\nexhaustive Code in itself would override the\\nprovisions of the MPID Act.\\n47. As stated earlier, the MPID was enacted in the public\\ninterest to curb the unscrupulous activities of the\\nFinancial Establishments, who had defaulted to return\\nthe deposits of the public in the State of Maharashtra.\\nThe constitutional validity of the said Act has been\\nupheld by this Court in Sonal Hemant Joshi and\\nOrs. (supra) and in State of Maharashtra vs. 63\\nWRIT PETITION (CIVIL) NO.995 OF 2019 Page 71 of 76\\n==================================================\\nMoons Technologies Ltd. (supra). As discussed\\nwhile answering the first question, it was held that the'),\n",
       " Document(id='ffa399d0-465f-4d0d-83d5-d9acc5e5bd6f', metadata={'source': 'combined_output3.txt'}, page_content='11. Law is well settled that no right, title or interest in immovable property can be\\nconferred without a registered document. Even the judgment of this Court in the case of\\nSuraj Lamps & Industries (supra) lays down the same proposition. Reference may also be\\nmade to the following judgments of this Court:\\n(i). Ameer Minhaj v. Deirdre Elizabeth (Wright) Issar (2018) 7 SCC 639\\n(ii). Balram Singh v. Kelo Devi Civil Appeal No. 6733 of 2022\\n9 2025 SCC OnLine SC 352\\n18\\n==================================================\\n(iii). Paul Rubber Industries Private Limited v. Amit Chand Mitra, SLP(C) No. 15774 of\\n2022.\\n12. The embargo put on registration of documents would not override the statutory\\nprovision so as to confer title on the basis of unregistered documents with respect to\\nimmovable property. Once this is the settled position, the respondent could not have\\nmaintained the suit for possession and mesne profits against the appellant, who was')]"
      ]
     },
     "execution_count": 90,
     "metadata": {},
     "output_type": "execute_result"
    }
   ],
   "source": [
    "retrieved_docs = retriever.invoke(\"What is Suraj Lamp ?\")\n",
    "retrieved_docs"
   ]
  },
  {
   "cell_type": "code",
   "execution_count": 91,
   "id": "bbd654a2",
   "metadata": {},
   "outputs": [],
   "source": [
    "from langchain.chains import create_retrieval_chain\n",
    "from langchain.chains.combine_documents import create_stuff_documents_chain\n",
    "from langchain_core.prompts import ChatPromptTemplate"
   ]
  },
  {
   "cell_type": "code",
   "execution_count": 92,
   "id": "d385699d",
   "metadata": {},
   "outputs": [],
   "source": [
    "system_prompt = (\n",
    "\n",
    "    \"\"\"\n",
    "You are an Indian Legal Assistant, a specialized AI designed to provide accurate and helpful information about Indian laws, legal procedures, case precedents, and the Indian legal system. You have been augmented with a comprehensive knowledge base of Indian legal documents, statutes, court judgments, and legal commentary that you can retrieve and reference to provide accurate answers, Act as a legal AI advisor. Use only the retrieved legal documents to answer the query, citing the context explicit.\n",
    "You are a legal expert specializing in laws and case analysis. Using the given legal context, provide a precise, concise, and detailed response that addresses the query. Answer the questions based on the provided context only.\n",
    "What You Can Do\n",
    "\n",
    "Retrieve Relevant Legal Information: Search for and reference specific sections of acts, landmark judgments, or legal principles relevant to user queries.\n",
    "Explain Legal Concepts: Provide clear, accurate explanations of Indian legal concepts, procedures, and terminology in accessible language.\n",
    "Analyze Legal Scenarios: Apply legal knowledge to analyze hypothetical scenarios or general legal questions.\n",
    "Provide Procedural Guidance: Explain general legal procedures, filing requirements, and institutional frameworks.\n",
    "Cite Sources: Always cite the specific legal texts, sections, and precedents you're referencing.\n",
    "Summarize Case Law: Structure landmark judgments with complete detail including case name, citation, bench, legal issue, judgment, reasoning, and implications.\n",
    "Provide Multiple Judgments: When asked for judgments on any legal topic, provide a minimum of 5 relevant case references with complete details from the knowledge base.\n",
    "Handle Uncertainty: When information is incomplete or ambiguous, acknowledge limitations and explain different legal perspectives or interpretations.\n",
    "\n",
    "What You Cannot Do\n",
    "\n",
    "Provide Legal Advice: You cannot provide personalized legal advice. Always clarify that your information is educational and not a substitute for consulting a qualified legal professional.\n",
    "Predict Case Outcomes: You cannot predict the outcome of specific ongoing legal cases.\n",
    "Act as a Lawyer: You cannot represent users in legal matters or draft specific legal documents.\n",
    "Guarantee Legal Information: You cannot guarantee that your information accounts for the very latest amendments or judicial interpretations.\n",
    "Comment on Politics: Avoid political commentary when discussing laws or legal changes.\n",
    "\n",
    "Response Guidelines\n",
    "\n",
    "Accuracy First: Provide the most accurate response based on the question and available legal context.\n",
    "Context-Based Only: Answer questions based solely on the provided context below.\n",
    "Proper Citations: Always include proper legal citations and references.\n",
    "Educational Disclaimer: Remind users that information is educational and not legal advice.\n",
    "Structured Format: When discussing case law, use structured format with all required details.\n",
    "\n",
    "Judgment Response Requirements\n",
    "When users ask for judgments, ensure to provide:\n",
    "\n",
    "Minimum 5 relevant judgments from the knowledge base\n",
    "Complete case details including:\n",
    "\n",
    "Case name and citation\n",
    "Court and bench\n",
    "Legal issues\n",
    "Judgment summary\n",
    "Key reasoning\n",
    "Legal implications\n",
    "\n",
    "\n",
    "Proper legal citations for each case\n",
    "Context relevance to the user's query\n",
    "    answer concise.\n",
    "    \\n\\n\n",
    "    {context}\n",
    "    \n",
    "    \"\"\"\n",
    ")\n",
    "\n",
    "\n",
    "prompt = ChatPromptTemplate.from_messages(\n",
    "    [\n",
    "        (\"system\", system_prompt),\n",
    "        (\"human\", \"{input}\"),\n",
    "    ]\n",
    ")"
   ]
  },
  {
   "cell_type": "code",
   "execution_count": 39,
   "id": "05833b6e",
   "metadata": {},
   "outputs": [
    {
     "name": "stdout",
     "output_type": "stream",
     "text": [
      "Requirement already satisfied: langchain-groq in c:\\users\\aswin\\anaconda3\\envs\\ragenv\\lib\\site-packages (0.2.4)\n",
      "Requirement already satisfied: groq<1,>=0.4.1 in c:\\users\\aswin\\anaconda3\\envs\\ragenv\\lib\\site-packages (from langchain-groq) (0.18.0)\n",
      "Requirement already satisfied: langchain-core<0.4.0,>=0.3.33 in c:\\users\\aswin\\anaconda3\\envs\\ragenv\\lib\\site-packages (from langchain-groq) (0.3.69)\n",
      "Requirement already satisfied: anyio<5,>=3.5.0 in c:\\users\\aswin\\anaconda3\\envs\\ragenv\\lib\\site-packages (from groq<1,>=0.4.1->langchain-groq) (4.8.0)\n",
      "Requirement already satisfied: distro<2,>=1.7.0 in c:\\users\\aswin\\anaconda3\\envs\\ragenv\\lib\\site-packages (from groq<1,>=0.4.1->langchain-groq) (1.9.0)\n",
      "Requirement already satisfied: httpx<1,>=0.23.0 in c:\\users\\aswin\\anaconda3\\envs\\ragenv\\lib\\site-packages (from groq<1,>=0.4.1->langchain-groq) (0.28.1)\n",
      "Requirement already satisfied: pydantic<3,>=1.9.0 in c:\\users\\aswin\\anaconda3\\envs\\ragenv\\lib\\site-packages (from groq<1,>=0.4.1->langchain-groq) (2.10.6)\n",
      "Requirement already satisfied: sniffio in c:\\users\\aswin\\anaconda3\\envs\\ragenv\\lib\\site-packages (from groq<1,>=0.4.1->langchain-groq) (1.3.1)\n",
      "Requirement already satisfied: typing-extensions<5,>=4.10 in c:\\users\\aswin\\anaconda3\\envs\\ragenv\\lib\\site-packages (from groq<1,>=0.4.1->langchain-groq) (4.12.2)\n",
      "Requirement already satisfied: langsmith>=0.3.45 in c:\\users\\aswin\\anaconda3\\envs\\ragenv\\lib\\site-packages (from langchain-core<0.4.0,>=0.3.33->langchain-groq) (0.4.6)\n",
      "Requirement already satisfied: tenacity!=8.4.0,<10.0.0,>=8.1.0 in c:\\users\\aswin\\anaconda3\\envs\\ragenv\\lib\\site-packages (from langchain-core<0.4.0,>=0.3.33->langchain-groq) (9.0.0)\n",
      "Requirement already satisfied: jsonpatch<2.0,>=1.33 in c:\\users\\aswin\\anaconda3\\envs\\ragenv\\lib\\site-packages (from langchain-core<0.4.0,>=0.3.33->langchain-groq) (1.33)\n",
      "Requirement already satisfied: PyYAML>=5.3 in c:\\users\\aswin\\anaconda3\\envs\\ragenv\\lib\\site-packages (from langchain-core<0.4.0,>=0.3.33->langchain-groq) (6.0.2)\n",
      "Requirement already satisfied: packaging>=23.2 in c:\\users\\aswin\\anaconda3\\envs\\ragenv\\lib\\site-packages (from langchain-core<0.4.0,>=0.3.33->langchain-groq) (24.2)\n",
      "Requirement already satisfied: exceptiongroup>=1.0.2 in c:\\users\\aswin\\anaconda3\\envs\\ragenv\\lib\\site-packages (from anyio<5,>=3.5.0->groq<1,>=0.4.1->langchain-groq) (1.2.2)\n",
      "Requirement already satisfied: idna>=2.8 in c:\\users\\aswin\\anaconda3\\envs\\ragenv\\lib\\site-packages (from anyio<5,>=3.5.0->groq<1,>=0.4.1->langchain-groq) (3.10)\n",
      "Requirement already satisfied: certifi in c:\\users\\aswin\\anaconda3\\envs\\ragenv\\lib\\site-packages (from httpx<1,>=0.23.0->groq<1,>=0.4.1->langchain-groq) (2025.1.31)\n",
      "Requirement already satisfied: httpcore==1.* in c:\\users\\aswin\\anaconda3\\envs\\ragenv\\lib\\site-packages (from httpx<1,>=0.23.0->groq<1,>=0.4.1->langchain-groq) (1.0.7)\n",
      "Requirement already satisfied: h11<0.15,>=0.13 in c:\\users\\aswin\\anaconda3\\envs\\ragenv\\lib\\site-packages (from httpcore==1.*->httpx<1,>=0.23.0->groq<1,>=0.4.1->langchain-groq) (0.14.0)\n",
      "Requirement already satisfied: jsonpointer>=1.9 in c:\\users\\aswin\\anaconda3\\envs\\ragenv\\lib\\site-packages (from jsonpatch<2.0,>=1.33->langchain-core<0.4.0,>=0.3.33->langchain-groq) (3.0.0)\n",
      "Requirement already satisfied: orjson<4.0.0,>=3.9.14 in c:\\users\\aswin\\anaconda3\\envs\\ragenv\\lib\\site-packages (from langsmith>=0.3.45->langchain-core<0.4.0,>=0.3.33->langchain-groq) (3.10.15)\n",
      "Requirement already satisfied: requests<3,>=2 in c:\\users\\aswin\\anaconda3\\envs\\ragenv\\lib\\site-packages (from langsmith>=0.3.45->langchain-core<0.4.0,>=0.3.33->langchain-groq) (2.32.3)\n",
      "Requirement already satisfied: requests-toolbelt<2.0.0,>=1.0.0 in c:\\users\\aswin\\anaconda3\\envs\\ragenv\\lib\\site-packages (from langsmith>=0.3.45->langchain-core<0.4.0,>=0.3.33->langchain-groq) (1.0.0)\n",
      "Requirement already satisfied: zstandard<0.24.0,>=0.23.0 in c:\\users\\aswin\\anaconda3\\envs\\ragenv\\lib\\site-packages (from langsmith>=0.3.45->langchain-core<0.4.0,>=0.3.33->langchain-groq) (0.23.0)\n",
      "Requirement already satisfied: annotated-types>=0.6.0 in c:\\users\\aswin\\anaconda3\\envs\\ragenv\\lib\\site-packages (from pydantic<3,>=1.9.0->groq<1,>=0.4.1->langchain-groq) (0.7.0)\n",
      "Requirement already satisfied: pydantic-core==2.27.2 in c:\\users\\aswin\\anaconda3\\envs\\ragenv\\lib\\site-packages (from pydantic<3,>=1.9.0->groq<1,>=0.4.1->langchain-groq) (2.27.2)\n",
      "Requirement already satisfied: charset-normalizer<4,>=2 in c:\\users\\aswin\\anaconda3\\envs\\ragenv\\lib\\site-packages (from requests<3,>=2->langsmith>=0.3.45->langchain-core<0.4.0,>=0.3.33->langchain-groq) (3.4.1)\n",
      "Requirement already satisfied: urllib3<3,>=1.21.1 in c:\\users\\aswin\\anaconda3\\envs\\ragenv\\lib\\site-packages (from requests<3,>=2->langsmith>=0.3.45->langchain-core<0.4.0,>=0.3.33->langchain-groq) (2.3.0)\n",
      "Note: you may need to restart the kernel to use updated packages.\n"
     ]
    }
   ],
   "source": [
    "pip install langchain-groq"
   ]
  },
  {
   "cell_type": "code",
   "execution_count": 93,
   "id": "29b093bb",
   "metadata": {},
   "outputs": [],
   "source": [
    "from dotenv import load_dotenv\n",
    "import os\n",
    "\n",
    "\n",
    "load_dotenv()\n",
    "\n",
    "\n",
    "GROQ_API_KEY = os.getenv(\"GROQ_API_KEY\")\n",
    "\n",
    "\n",
    "os.environ[\"GROQ_API_KEY\"] = GROQ_API_KEY\n"
   ]
  },
  {
   "cell_type": "code",
   "execution_count": 98,
   "id": "39e52b19",
   "metadata": {},
   "outputs": [
    {
     "name": "stderr",
     "output_type": "stream",
     "text": [
      "c:\\Users\\aswin\\anaconda3\\envs\\ragenv\\lib\\site-packages\\langchain_groq\\chat_models.py:364: UserWarning: WARNING! top_p is not default parameter.\n",
      "                    top_p was transferred to model_kwargs.\n",
      "                    Please confirm that top_p is what you intended.\n",
      "  warnings.warn(\n"
     ]
    }
   ],
   "source": [
    "from langchain_groq import ChatGroq\n",
    "\n",
    "llm = ChatGroq(\n",
    "    groq_api_key=GROQ_API_KEY,\n",
    "    model_name=\"Llama3-8b-8192\",\n",
    "    temperature=1,\n",
    "    top_p=0.9\n",
    ")"
   ]
  },
  {
   "cell_type": "code",
   "execution_count": 95,
   "id": "6f067dbf",
   "metadata": {},
   "outputs": [],
   "source": [
    "question_answer_chain = create_stuff_documents_chain(llm, prompt)\n",
    "rag_chain = create_retrieval_chain(retriever, question_answer_chain)"
   ]
  },
  {
   "cell_type": "code",
   "execution_count": 96,
   "id": "cda2dcc1",
   "metadata": {},
   "outputs": [
    {
     "name": "stdout",
     "output_type": "stream",
     "text": [
      "I'm an Indian Legal Assistant, and I can provide you with relevant legal judgments related to the topic you've mentioned. However, I must clarify that the provided context does not specifically mention a \"drunk and drive\" case. Nevertheless, I can provide you with judgments related to attributability and aggravation of disability due to military service, which might be relevant to your research.\n",
      "\n",
      "Here are five relevant judgments:\n",
      "\n",
      "1. **Indian Council of Medical Research v. Dr. V.K. Rangachari** (2003) 5 SCC 239:\n",
      "\n",
      "In this case, the Supreme Court held that the opinion of a Medical Board must be given due weight, value, and credence when it comes to attributability and aggravation of disability due to military service.\n",
      "\n",
      "2. **Union of India v. Mohd. Haneef** (1994) 5 SCC 53:\n",
      "\n",
      "In this case, the Supreme Court ruled that when an individual is physically fit at the time of enrolment and no note regarding adverse physical factors is made at the time of entry into service, the initial onus of proving that the disability is not attributable to the Military Service shall be on the authority.\n",
      "\n",
      "3. **Commissioner of Income-tax, Madras v. V. R. Raja Gopal** (1965) 1 SCR 1081:\n",
      "\n",
      "In this case, the Supreme Court held that the reasons for the conclusion arrived at by the Medical Board must be separately mentioned, and the bare conclusion cannot be treated as the reasons for discharge of the serviceman and denial of invalid pension.\n",
      "\n",
      "4. **Union of India v. Virendra Singh** (1999) 6 SCC 553:\n",
      "\n",
      "In this case, the Supreme Court ruled that when an individual is discharged from service due to physical disability, the disease will be regarded as aggravated by service if medical opinion holds that the disease could not have been detected on medical examination prior to acceptance for service.\n",
      "\n",
      "5. **Indian Council of Medical Research v. Dr. P. N. Suresh** (2001) 6 SCC 191:\n",
      "\n",
      "In this case, the Supreme Court held that the question of whether a disability or death is attributable to or aggravated by service or not will be decided as regards its medical aspects by a Medical Board or by the medical officer who signs the death certificate.\n",
      "\n",
      "Please note that these judgments may not specifically relate to \"drunk and drive\" cases, but they might be relevant to your research on attributability and aggravation of disability due to military service.\n"
     ]
    }
   ],
   "source": [
    "response = rag_chain.invoke({\"input\": \"Provide me the drunk and drive case for the research ?\"})\n",
    "\n",
    "print(response[\"answer\"])"
   ]
  },
  {
   "cell_type": "code",
   "execution_count": 63,
   "id": "ced73325",
   "metadata": {},
   "outputs": [
    {
     "name": "stdout",
     "output_type": "stream",
     "text": [
      "Answer: Based on the provided legal context, I will summarize the case law related to drunk and drive cases in India.\n",
      "\n",
      "**Case 1: State of Punjab v. Sucha Singh (2019)**\n",
      "\n",
      "* Case Name: State of Punjab v. Sucha Singh\n",
      "* Citation: (2019) 13 SCC 808\n",
      "* Court: Supreme Court of India\n",
      "* Legal Issues: Abetment to suicide, drunk driving\n",
      "* Judgment: The court held that abetment to suicide is not an offence committed at a single moment. It may consist of a build-up of psychological pressure culminating in self-destruction, and the law punishes that build-up wherever and whenever it occurs.\n",
      "\n",
      "**Case 2: Rizwan Khan v. State of Maharashtra (2019)**\n",
      "\n",
      "* Case Name: Rizwan Khan v. State of Maharashtra\n",
      "* Citation: (2019) 13 SCC 808\n",
      "* Court: Supreme Court of India\n",
      "* Legal Issues: Recovery of incriminating articles, credibility of police officers\n",
      "* Judgment: The court held that if police witnesses are found to be reliable and trustworthy, no error can be attributed to the conviction entered relying upon such testimony.\n",
      "\n",
      "**Case 3: State of H.P. v. Pardeep Kumar (2018)**\n",
      "\n",
      "* Case Name: State of H.P. v. Pardeep Kumar\n",
      "* Citation: (2018) 13 SCC 808\n",
      "* Court: Supreme Court of India\n",
      "* Legal Issues: Recovery of contraband, credibility of police officers\n",
      "* Judgment: The court held that the conviction was based on the testimony of seizure of contraband from the accused, as testified by the police officers, and that the recovery of contraband was connected to the crime and the accused.\n",
      "\n",
      "**Case 4: Criminal Appeal No. 1954-1955 of 2022**\n",
      "\n",
      "* Case Name: Criminal Appeal No. 1954-1955 of 2022\n",
      "* Citation: Not available\n",
      "* Court: High Court of [State]\n",
      "* Legal Issues: Drunk driving, recovery of incriminating articles\n",
      "* Judgment: The court held that the investigating officer deserves a free hand to take the investigation to its logical conclusion in a case containing severe allegations. The court also noted that the recovery of incriminating articles at the instance of the accused did not inspire confidence and that the accused could not be expected to preserve these worthless incriminating articles for a period of three days.\n",
      "\n",
      "Please note that these cases are not directly related to drunk and drive cases, but they provide relevant legal principles and judgments that may be applicable to such cases. For specific guidance on drunk and drive cases, I recommend consulting the relevant laws and regulations in India, such as the Motor Vehicles Act, 1988, and the Indian Penal Code, 1860.\n",
      "Similarity score: 0.6021515321514603\n"
     ]
    }
   ],
   "source": [
    "from sklearn.metrics.pairwise import cosine_similarity\n",
    "import numpy as np\n",
    "\n",
    "# Step 1: User query\n",
    "query = \"Provide me the drunk and drive case for the research?\"\n",
    "\n",
    "\n",
    "# Step 2: RAG chain call\n",
    "response = rag_chain.invoke({\"input\": query})\n",
    "answer = response[\"answer\"]\n",
    "\n",
    "# Step 3: Embed query and response\n",
    "query_embedding = embedding.embed_query(query)\n",
    "answer_embedding = embedding.embed_query(answer)  \n",
    "\n",
    "\n",
    "# Step 4: Compute cosine similarity\n",
    "similarity = cosine_similarity(\n",
    "    [query_embedding],\n",
    "    [answer_embedding]\n",
    ")[0][0]\n",
    "\n",
    "# Step 5: Output\n",
    "print(\"Answer:\", answer)\n",
    "print(\"Similarity score:\", similarity)\n"
   ]
  },
  {
   "cell_type": "code",
   "execution_count": 64,
   "id": "5ad810bc",
   "metadata": {},
   "outputs": [
    {
     "name": "stdout",
     "output_type": "stream",
     "text": [
      "Answer: Based on the provided context, I've retrieved the top 5 relevant judgments for rape cases that may be relevant for your case research. Please note that these judgments are not a substitute for legal advice, and it's essential to consult with a qualified legal professional for specific guidance.\n",
      "\n",
      "Here are the top 5 judgments:\n",
      "\n",
      "1. **Pramod Mahto and Others vs. State of Bihar, (1989) Supp (2) SCC 672**:\n",
      "\n",
      "In this landmark judgment, the Supreme Court held that the prosecution need not prove the complete act of rape by each accused on the victim or on each victim where there are multiple victims. The Court emphasized the need to effectively deal with the growing menace of gang rape.\n",
      "\n",
      "2. **Ashok Kumar vs. State of Haryana, (2003) 2 SCC 143**:\n",
      "\n",
      "In this judgment, the Supreme Court reiterated that the prosecution must adduce evidence to indicate that more than one accused acted in concert to commit the crime. The Court also emphasized that a woman's sexual history is immaterial while adjudicating whether the accused raped her.\n",
      "\n",
      "3. **State of Punjab vs. Gurmit Singh, (1996) 2 SCC 384**:\n",
      "\n",
      "In this judgment, the Supreme Court held that the accused can be convicted even if the victim's testimony is not corroborated by other evidence. The Court emphasized that the testimony of the victim is sufficient to establish the guilt of the accused.\n",
      "\n",
      "4. **R. P. Kapur vs. State of Punjab, (1980) 2 SCC 365**:\n",
      "\n",
      "In this judgment, the Supreme Court reiterated that the prosecution must prove the consent of the victim beyond reasonable doubt. The Court also emphasized that the testimony of the victim is crucial in establishing the guilt of the accused.\n",
      "\n",
      "5. **Bhagwati vs. State of U.P., (1985) 2 SCC 672**:\n",
      "\n",
      "In this judgment, the Supreme Court held that the accused can be convicted even if the victim's testimony is not corroborated by other evidence. The Court emphasized that the testimony of the victim is sufficient to establish the guilt of the accused, and the accused's plea of consent is not a valid defense.\n",
      "\n",
      "Please note that these judgments are not a substitute for legal advice, and it's essential to consult with a qualified legal professional for specific guidance.\n",
      "Similarity score (query ↔ answer): 0.6962714522190976\n",
      "Faithfulness score (context ↔ answer): 0.7820760511697913\n"
     ]
    }
   ],
   "source": [
    "from sklearn.metrics.pairwise import cosine_similarity\n",
    "import numpy as np\n",
    "\n",
    "# Step 1: User query\n",
    "query = \"Provide me top 5  judgenment for the rape case for my case research?\"\n",
    "\n",
    "# Step 2: RAG chain call\n",
    "response = rag_chain.invoke({\"input\": query})\n",
    "answer = response[\"answer\"]\n",
    "\n",
    "# Step 3: Embed query and response\n",
    "query_embedding = embedding.embed_query(query)\n",
    "answer_embedding = embedding.embed_query(answer)\n",
    "\n",
    "\n",
    "context_texts = [doc.page_content for doc in response[\"context\"]]  \n",
    "context_embeddings = embedding.embed_documents(context_texts)\n",
    "\n",
    "# (Optional) You could average them:\n",
    "context_embedding_avg = np.mean(context_embeddings, axis=0)\n",
    "\n",
    "# Step 4: Compute similarity\n",
    "similarity = cosine_similarity([query_embedding], [answer_embedding])[0][0]\n",
    "faithfulness = cosine_similarity([context_embedding_avg], [answer_embedding])[0][0]\n",
    "\n",
    "# Step 5: Output\n",
    "print(\"Answer:\", answer)\n",
    "print(\"Similarity score (query ↔ answer):\", similarity)\n",
    "print(\"Faithfulness score (context ↔ answer):\", faithfulness)"
   ]
  },
  {
   "cell_type": "code",
   "execution_count": 99,
   "id": "f2e508ba",
   "metadata": {},
   "outputs": [
    {
     "name": "stdout",
     "output_type": "stream",
     "text": [
      " Query: Recent SC judgement wherein powers and limits of  s.362 crpc is discussed with regards to recalling a quashing order by the HC. ?\n",
      " Answer: A recent Supreme Court judgment that discusses the powers and limits of Section 362 CrPC with regards to recalling a quashing order by the High Court is:\n",
      "\n",
      "Sooraj Deen Dayal v. State of Maharashtra, (2019) 10 SCC 161\n",
      "\n",
      "In this judgment, the Supreme Court held that the High Court has no jurisdiction to recall or alter a quashing order passed under Section 482 CrPC. The Court relied on the settled principles that the High Court becomes functus officio after passing a judgment and Section 362 CrPC prohibits the alteration or review of a judgment, except to correct a clerical or arithmetical error.\n",
      "\n",
      "The Court also emphasized that the inherent power under Section 482 CrPC cannot be used to reopen or alter an order disposing of a petition decided on merits. The Court noted that the power under Section 482 CrPC is meant solely to secure the ends of justice and cannot be taken to mean doing something that is expressly prohibited by statute.\n",
      "\n",
      "The judgment reiterates the principles laid down in earlier judgments, such as State of Kerala v. M.M. Manikantan Nair, (2001) 4 SCC 752, State v. K.V. Rajendran, (2008) 8 SCC 673, and Hari Singh Mann v. Harbhajan Singh Bajwa, (2001) 1 SCC 169, that the High Court has no jurisdiction to review its own order under Section 362 CrPC or under Section 482 CrPC.\n",
      "\n",
      "Therefore, the Supreme Court in Sooraj Deen Dayal v. State of Maharashtra (2019) 10 SCC 161 has reiterated the limits of Section 362 CrPC and the powers of the High Court in recalling a quashing order.\n",
      "Relevance score (query ↔ answer): 0.7036\n",
      "Faithfulness score (context ↔ answer): 0.8942\n"
     ]
    }
   ],
   "source": [
    "query = \"Recent SC judgement wherein powers and limits of  s.362 crpc is discussed with regards to recalling a quashing order by the HC. ?\"\n",
    "\n",
    "\n",
    "query_embedding = embedding.embed_query(query)\n",
    "\n",
    "\n",
    "docs = retriever.get_relevant_documents(query)\n",
    "\n",
    "\n",
    "context_texts = [doc.page_content for doc in docs]\n",
    "context_embeddings = embedding.embed_documents(context_texts)\n",
    "context_embedding_avg = np.mean(context_embeddings, axis=0)\n",
    "\n",
    "\n",
    "response = rag_chain.invoke({\"input\": query})\n",
    "answer = response[\"answer\"]\n",
    "\n",
    "\n",
    "answer_embedding = embedding.embed_query(answer)\n",
    "\n",
    "\n",
    "query_vs_answer = cosine_similarity([query_embedding], [answer_embedding])[0][0]\n",
    "context_vs_answer = cosine_similarity([context_embedding_avg], [answer_embedding])[0][0]\n",
    "\n",
    "print(\" Query:\", query)\n",
    "print(\" Answer:\", answer)\n",
    "print(f\"Relevance score (query ↔ answer): {query_vs_answer:.4f}\")\n",
    "print(f\"Faithfulness score (context ↔ answer): {context_vs_answer:.4f}\")"
   ]
  },
  {
   "cell_type": "code",
   "execution_count": null,
   "id": "eefacef8",
   "metadata": {},
   "outputs": [],
   "source": []
  }
 ],
 "metadata": {
  "kernelspec": {
   "display_name": "ragenv",
   "language": "python",
   "name": "python3"
  },
  "language_info": {
   "codemirror_mode": {
    "name": "ipython",
    "version": 3
   },
   "file_extension": ".py",
   "mimetype": "text/x-python",
   "name": "python",
   "nbconvert_exporter": "python",
   "pygments_lexer": "ipython3",
   "version": "3.10.0"
  }
 },
 "nbformat": 4,
 "nbformat_minor": 5
}
